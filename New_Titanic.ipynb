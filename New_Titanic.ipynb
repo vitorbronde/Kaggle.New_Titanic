{
 "cells": [
  {
   "cell_type": "code",
   "execution_count": 44,
   "id": "0bebc8e0",
   "metadata": {},
   "outputs": [],
   "source": [
    "import pandas as pd\n",
    "import numpy as np\n",
    "import matplotlib.pyplot as plt\n",
    "import seaborn as sns\n",
    "from sklearn.impute import SimpleImputer \n",
    "import warnings\n",
    "warnings.simplefilter('ignore')\n",
    "from sklearn.preprocessing import StandardScaler"
   ]
  },
  {
   "cell_type": "code",
   "execution_count": 2,
   "id": "e6e02bc6",
   "metadata": {},
   "outputs": [
    {
     "data": {
      "text/html": [
       "<div>\n",
       "<style scoped>\n",
       "    .dataframe tbody tr th:only-of-type {\n",
       "        vertical-align: middle;\n",
       "    }\n",
       "\n",
       "    .dataframe tbody tr th {\n",
       "        vertical-align: top;\n",
       "    }\n",
       "\n",
       "    .dataframe thead th {\n",
       "        text-align: right;\n",
       "    }\n",
       "</style>\n",
       "<table border=\"1\" class=\"dataframe\">\n",
       "  <thead>\n",
       "    <tr style=\"text-align: right;\">\n",
       "      <th></th>\n",
       "      <th>PassengerId</th>\n",
       "      <th>HomePlanet</th>\n",
       "      <th>CryoSleep</th>\n",
       "      <th>Cabin</th>\n",
       "      <th>Destination</th>\n",
       "      <th>Age</th>\n",
       "      <th>VIP</th>\n",
       "      <th>RoomService</th>\n",
       "      <th>FoodCourt</th>\n",
       "      <th>ShoppingMall</th>\n",
       "      <th>Spa</th>\n",
       "      <th>VRDeck</th>\n",
       "      <th>Name</th>\n",
       "      <th>Transported</th>\n",
       "    </tr>\n",
       "  </thead>\n",
       "  <tbody>\n",
       "    <tr>\n",
       "      <th>0</th>\n",
       "      <td>0001_01</td>\n",
       "      <td>Europa</td>\n",
       "      <td>False</td>\n",
       "      <td>B/0/P</td>\n",
       "      <td>TRAPPIST-1e</td>\n",
       "      <td>39.0</td>\n",
       "      <td>False</td>\n",
       "      <td>0.0</td>\n",
       "      <td>0.0</td>\n",
       "      <td>0.0</td>\n",
       "      <td>0.0</td>\n",
       "      <td>0.0</td>\n",
       "      <td>Maham Ofracculy</td>\n",
       "      <td>False</td>\n",
       "    </tr>\n",
       "    <tr>\n",
       "      <th>1</th>\n",
       "      <td>0002_01</td>\n",
       "      <td>Earth</td>\n",
       "      <td>False</td>\n",
       "      <td>F/0/S</td>\n",
       "      <td>TRAPPIST-1e</td>\n",
       "      <td>24.0</td>\n",
       "      <td>False</td>\n",
       "      <td>109.0</td>\n",
       "      <td>9.0</td>\n",
       "      <td>25.0</td>\n",
       "      <td>549.0</td>\n",
       "      <td>44.0</td>\n",
       "      <td>Juanna Vines</td>\n",
       "      <td>True</td>\n",
       "    </tr>\n",
       "    <tr>\n",
       "      <th>2</th>\n",
       "      <td>0003_01</td>\n",
       "      <td>Europa</td>\n",
       "      <td>False</td>\n",
       "      <td>A/0/S</td>\n",
       "      <td>TRAPPIST-1e</td>\n",
       "      <td>58.0</td>\n",
       "      <td>True</td>\n",
       "      <td>43.0</td>\n",
       "      <td>3576.0</td>\n",
       "      <td>0.0</td>\n",
       "      <td>6715.0</td>\n",
       "      <td>49.0</td>\n",
       "      <td>Altark Susent</td>\n",
       "      <td>False</td>\n",
       "    </tr>\n",
       "    <tr>\n",
       "      <th>3</th>\n",
       "      <td>0003_02</td>\n",
       "      <td>Europa</td>\n",
       "      <td>False</td>\n",
       "      <td>A/0/S</td>\n",
       "      <td>TRAPPIST-1e</td>\n",
       "      <td>33.0</td>\n",
       "      <td>False</td>\n",
       "      <td>0.0</td>\n",
       "      <td>1283.0</td>\n",
       "      <td>371.0</td>\n",
       "      <td>3329.0</td>\n",
       "      <td>193.0</td>\n",
       "      <td>Solam Susent</td>\n",
       "      <td>False</td>\n",
       "    </tr>\n",
       "    <tr>\n",
       "      <th>4</th>\n",
       "      <td>0004_01</td>\n",
       "      <td>Earth</td>\n",
       "      <td>False</td>\n",
       "      <td>F/1/S</td>\n",
       "      <td>TRAPPIST-1e</td>\n",
       "      <td>16.0</td>\n",
       "      <td>False</td>\n",
       "      <td>303.0</td>\n",
       "      <td>70.0</td>\n",
       "      <td>151.0</td>\n",
       "      <td>565.0</td>\n",
       "      <td>2.0</td>\n",
       "      <td>Willy Santantines</td>\n",
       "      <td>True</td>\n",
       "    </tr>\n",
       "  </tbody>\n",
       "</table>\n",
       "</div>"
      ],
      "text/plain": [
       "  PassengerId HomePlanet CryoSleep  Cabin  Destination   Age    VIP  \\\n",
       "0     0001_01     Europa     False  B/0/P  TRAPPIST-1e  39.0  False   \n",
       "1     0002_01      Earth     False  F/0/S  TRAPPIST-1e  24.0  False   \n",
       "2     0003_01     Europa     False  A/0/S  TRAPPIST-1e  58.0   True   \n",
       "3     0003_02     Europa     False  A/0/S  TRAPPIST-1e  33.0  False   \n",
       "4     0004_01      Earth     False  F/1/S  TRAPPIST-1e  16.0  False   \n",
       "\n",
       "   RoomService  FoodCourt  ShoppingMall     Spa  VRDeck               Name  \\\n",
       "0          0.0        0.0           0.0     0.0     0.0    Maham Ofracculy   \n",
       "1        109.0        9.0          25.0   549.0    44.0       Juanna Vines   \n",
       "2         43.0     3576.0           0.0  6715.0    49.0      Altark Susent   \n",
       "3          0.0     1283.0         371.0  3329.0   193.0       Solam Susent   \n",
       "4        303.0       70.0         151.0   565.0     2.0  Willy Santantines   \n",
       "\n",
       "   Transported  \n",
       "0        False  \n",
       "1         True  \n",
       "2        False  \n",
       "3        False  \n",
       "4         True  "
      ]
     },
     "execution_count": 2,
     "metadata": {},
     "output_type": "execute_result"
    }
   ],
   "source": [
    "df_base_titanic = pd.read_csv('train.csv')\n",
    "df_base_titanic.head()"
   ]
  },
  {
   "cell_type": "markdown",
   "id": "b254a6d4",
   "metadata": {},
   "source": [
    "## 1º Explorar o dataset\n",
    "verificar pessoas da mesma familia pelo sobrenome"
   ]
  },
  {
   "cell_type": "code",
   "execution_count": 3,
   "id": "809f7621",
   "metadata": {},
   "outputs": [
    {
     "name": "stdout",
     "output_type": "stream",
     "text": [
      "8693 X 14\n"
     ]
    }
   ],
   "source": [
    "print(df_base_titanic.shape[0] , 'X' , df_base_titanic.shape[1])"
   ]
  },
  {
   "cell_type": "markdown",
   "id": "15bed86a",
   "metadata": {},
   "source": [
    "O dataset tem 8693 linhas e 14 colunas "
   ]
  },
  {
   "cell_type": "code",
   "execution_count": 4,
   "id": "074f0306",
   "metadata": {},
   "outputs": [
    {
     "name": "stdout",
     "output_type": "stream",
     "text": [
      "<class 'pandas.core.frame.DataFrame'>\n",
      "RangeIndex: 8693 entries, 0 to 8692\n",
      "Data columns (total 14 columns):\n",
      " #   Column        Non-Null Count  Dtype  \n",
      "---  ------        --------------  -----  \n",
      " 0   PassengerId   8693 non-null   object \n",
      " 1   HomePlanet    8492 non-null   object \n",
      " 2   CryoSleep     8476 non-null   object \n",
      " 3   Cabin         8494 non-null   object \n",
      " 4   Destination   8511 non-null   object \n",
      " 5   Age           8514 non-null   float64\n",
      " 6   VIP           8490 non-null   object \n",
      " 7   RoomService   8512 non-null   float64\n",
      " 8   FoodCourt     8510 non-null   float64\n",
      " 9   ShoppingMall  8485 non-null   float64\n",
      " 10  Spa           8510 non-null   float64\n",
      " 11  VRDeck        8505 non-null   float64\n",
      " 12  Name          8493 non-null   object \n",
      " 13  Transported   8693 non-null   bool   \n",
      "dtypes: bool(1), float64(6), object(7)\n",
      "memory usage: 891.5+ KB\n"
     ]
    }
   ],
   "source": [
    "df_base_titanic.info()"
   ]
  },
  {
   "cell_type": "raw",
   "id": "19283842",
   "metadata": {},
   "source": [
    "Notamos diversos features categóricas , principalmente referente a serviços, que podem ser transformadas em dummies, afim de analisar o impacto do passageiro ter usado o serviço no fato de ter sido teletransportado ou não"
   ]
  },
  {
   "cell_type": "code",
   "execution_count": 5,
   "id": "93da265c",
   "metadata": {},
   "outputs": [
    {
     "data": {
      "text/html": [
       "<div>\n",
       "<style scoped>\n",
       "    .dataframe tbody tr th:only-of-type {\n",
       "        vertical-align: middle;\n",
       "    }\n",
       "\n",
       "    .dataframe tbody tr th {\n",
       "        vertical-align: top;\n",
       "    }\n",
       "\n",
       "    .dataframe thead th {\n",
       "        text-align: right;\n",
       "    }\n",
       "</style>\n",
       "<table border=\"1\" class=\"dataframe\">\n",
       "  <thead>\n",
       "    <tr style=\"text-align: right;\">\n",
       "      <th></th>\n",
       "      <th>Age</th>\n",
       "      <th>RoomService</th>\n",
       "      <th>FoodCourt</th>\n",
       "      <th>ShoppingMall</th>\n",
       "      <th>Spa</th>\n",
       "      <th>VRDeck</th>\n",
       "    </tr>\n",
       "  </thead>\n",
       "  <tbody>\n",
       "    <tr>\n",
       "      <th>count</th>\n",
       "      <td>8514.000000</td>\n",
       "      <td>8512.000000</td>\n",
       "      <td>8510.000000</td>\n",
       "      <td>8485.000000</td>\n",
       "      <td>8510.000000</td>\n",
       "      <td>8505.000000</td>\n",
       "    </tr>\n",
       "    <tr>\n",
       "      <th>mean</th>\n",
       "      <td>28.827930</td>\n",
       "      <td>224.687617</td>\n",
       "      <td>458.077203</td>\n",
       "      <td>173.729169</td>\n",
       "      <td>311.138778</td>\n",
       "      <td>304.854791</td>\n",
       "    </tr>\n",
       "    <tr>\n",
       "      <th>std</th>\n",
       "      <td>14.489021</td>\n",
       "      <td>666.717663</td>\n",
       "      <td>1611.489240</td>\n",
       "      <td>604.696458</td>\n",
       "      <td>1136.705535</td>\n",
       "      <td>1145.717189</td>\n",
       "    </tr>\n",
       "    <tr>\n",
       "      <th>min</th>\n",
       "      <td>0.000000</td>\n",
       "      <td>0.000000</td>\n",
       "      <td>0.000000</td>\n",
       "      <td>0.000000</td>\n",
       "      <td>0.000000</td>\n",
       "      <td>0.000000</td>\n",
       "    </tr>\n",
       "    <tr>\n",
       "      <th>25%</th>\n",
       "      <td>19.000000</td>\n",
       "      <td>0.000000</td>\n",
       "      <td>0.000000</td>\n",
       "      <td>0.000000</td>\n",
       "      <td>0.000000</td>\n",
       "      <td>0.000000</td>\n",
       "    </tr>\n",
       "    <tr>\n",
       "      <th>50%</th>\n",
       "      <td>27.000000</td>\n",
       "      <td>0.000000</td>\n",
       "      <td>0.000000</td>\n",
       "      <td>0.000000</td>\n",
       "      <td>0.000000</td>\n",
       "      <td>0.000000</td>\n",
       "    </tr>\n",
       "    <tr>\n",
       "      <th>75%</th>\n",
       "      <td>38.000000</td>\n",
       "      <td>47.000000</td>\n",
       "      <td>76.000000</td>\n",
       "      <td>27.000000</td>\n",
       "      <td>59.000000</td>\n",
       "      <td>46.000000</td>\n",
       "    </tr>\n",
       "    <tr>\n",
       "      <th>max</th>\n",
       "      <td>79.000000</td>\n",
       "      <td>14327.000000</td>\n",
       "      <td>29813.000000</td>\n",
       "      <td>23492.000000</td>\n",
       "      <td>22408.000000</td>\n",
       "      <td>24133.000000</td>\n",
       "    </tr>\n",
       "  </tbody>\n",
       "</table>\n",
       "</div>"
      ],
      "text/plain": [
       "               Age   RoomService     FoodCourt  ShoppingMall           Spa  \\\n",
       "count  8514.000000   8512.000000   8510.000000   8485.000000   8510.000000   \n",
       "mean     28.827930    224.687617    458.077203    173.729169    311.138778   \n",
       "std      14.489021    666.717663   1611.489240    604.696458   1136.705535   \n",
       "min       0.000000      0.000000      0.000000      0.000000      0.000000   \n",
       "25%      19.000000      0.000000      0.000000      0.000000      0.000000   \n",
       "50%      27.000000      0.000000      0.000000      0.000000      0.000000   \n",
       "75%      38.000000     47.000000     76.000000     27.000000     59.000000   \n",
       "max      79.000000  14327.000000  29813.000000  23492.000000  22408.000000   \n",
       "\n",
       "             VRDeck  \n",
       "count   8505.000000  \n",
       "mean     304.854791  \n",
       "std     1145.717189  \n",
       "min        0.000000  \n",
       "25%        0.000000  \n",
       "50%        0.000000  \n",
       "75%       46.000000  \n",
       "max    24133.000000  "
      ]
     },
     "execution_count": 5,
     "metadata": {},
     "output_type": "execute_result"
    }
   ],
   "source": [
    "df_base_titanic.describe()"
   ]
  },
  {
   "cell_type": "raw",
   "id": "b4792f81",
   "metadata": {},
   "source": [
    "Algumas features só apresentam valores no último quartil.\n",
    "Também seria interressante fazer a mesma análise com as features categóricas como dummies"
   ]
  },
  {
   "cell_type": "markdown",
   "id": "e47a8119",
   "metadata": {},
   "source": [
    "### Analisar o quanto da base está com valores faltantes "
   ]
  },
  {
   "cell_type": "code",
   "execution_count": 6,
   "id": "a604166c",
   "metadata": {},
   "outputs": [
    {
     "data": {
      "text/plain": [
       "PassengerId       0\n",
       "HomePlanet      201\n",
       "CryoSleep       217\n",
       "Cabin           199\n",
       "Destination     182\n",
       "Age             179\n",
       "VIP             203\n",
       "RoomService     181\n",
       "FoodCourt       183\n",
       "ShoppingMall    208\n",
       "Spa             183\n",
       "VRDeck          188\n",
       "Name            200\n",
       "Transported       0\n",
       "dtype: int64"
      ]
     },
     "execution_count": 6,
     "metadata": {},
     "output_type": "execute_result"
    }
   ],
   "source": [
    "df_base_titanic.isna().sum()"
   ]
  },
  {
   "cell_type": "code",
   "execution_count": 7,
   "id": "38cc2eda",
   "metadata": {},
   "outputs": [
    {
     "data": {
      "text/html": [
       "<div>\n",
       "<style scoped>\n",
       "    .dataframe tbody tr th:only-of-type {\n",
       "        vertical-align: middle;\n",
       "    }\n",
       "\n",
       "    .dataframe tbody tr th {\n",
       "        vertical-align: top;\n",
       "    }\n",
       "\n",
       "    .dataframe thead th {\n",
       "        text-align: right;\n",
       "    }\n",
       "</style>\n",
       "<table border=\"1\" class=\"dataframe\">\n",
       "  <thead>\n",
       "    <tr style=\"text-align: right;\">\n",
       "      <th>Column</th>\n",
       "      <th>CryoSleep</th>\n",
       "      <th>ShoppingMall</th>\n",
       "      <th>VIP</th>\n",
       "      <th>HomePlanet</th>\n",
       "      <th>Name</th>\n",
       "      <th>Cabin</th>\n",
       "      <th>VRDeck</th>\n",
       "      <th>FoodCourt</th>\n",
       "      <th>Spa</th>\n",
       "      <th>Destination</th>\n",
       "      <th>RoomService</th>\n",
       "      <th>Age</th>\n",
       "      <th>PassengerId</th>\n",
       "      <th>Transported</th>\n",
       "    </tr>\n",
       "  </thead>\n",
       "  <tbody>\n",
       "    <tr>\n",
       "      <th>NaN count</th>\n",
       "      <td>217</td>\n",
       "      <td>208</td>\n",
       "      <td>203</td>\n",
       "      <td>201</td>\n",
       "      <td>200</td>\n",
       "      <td>199</td>\n",
       "      <td>188</td>\n",
       "      <td>183</td>\n",
       "      <td>183</td>\n",
       "      <td>182</td>\n",
       "      <td>181</td>\n",
       "      <td>179</td>\n",
       "      <td>0</td>\n",
       "      <td>0</td>\n",
       "    </tr>\n",
       "    <tr>\n",
       "      <th>NaN ratio</th>\n",
       "      <td>2.5%</td>\n",
       "      <td>2.39%</td>\n",
       "      <td>2.34%</td>\n",
       "      <td>2.31%</td>\n",
       "      <td>2.3%</td>\n",
       "      <td>2.29%</td>\n",
       "      <td>2.16%</td>\n",
       "      <td>2.11%</td>\n",
       "      <td>2.11%</td>\n",
       "      <td>2.09%</td>\n",
       "      <td>2.08%</td>\n",
       "      <td>2.06%</td>\n",
       "      <td>0.0%</td>\n",
       "      <td>0.0%</td>\n",
       "    </tr>\n",
       "  </tbody>\n",
       "</table>\n",
       "</div>"
      ],
      "text/plain": [
       "Column    CryoSleep ShoppingMall    VIP HomePlanet  Name  Cabin VRDeck  \\\n",
       "NaN count       217          208    203        201   200    199    188   \n",
       "NaN ratio      2.5%        2.39%  2.34%      2.31%  2.3%  2.29%  2.16%   \n",
       "\n",
       "Column    FoodCourt    Spa Destination RoomService    Age PassengerId  \\\n",
       "NaN count       183    183         182         181    179           0   \n",
       "NaN ratio     2.11%  2.11%       2.09%       2.08%  2.06%        0.0%   \n",
       "\n",
       "Column    Transported  \n",
       "NaN count           0  \n",
       "NaN ratio        0.0%  "
      ]
     },
     "execution_count": 7,
     "metadata": {},
     "output_type": "execute_result"
    }
   ],
   "source": [
    "# melhorando este insight, vamos analisar o quanto de dados faltante representa de cada feature\n",
    "nan_ratio = []\n",
    "for col in df_base_titanic.columns :\n",
    "    nan_item = []\n",
    "    nan_item.append(col)\n",
    "    nan_item.append(df_base_titanic[col].isnull().sum())\n",
    "    nan_item.append(str(round(100*df_base_titanic[col].isnull().sum() / df_base_titanic.shape[0], 2 ))+ '%')\n",
    "    nan_ratio.append(nan_item)\n",
    "    \n",
    "df_nan = pd.DataFrame(nan_ratio, columns=[\"Column\", \"NaN count\", \"NaN ratio\"]).set_index(\"Column\")\n",
    "df_nan = df_nan.sort_values(\"NaN ratio\", ascending=False)\n",
    "df_nan.astype(object).T"
   ]
  },
  {
   "cell_type": "raw",
   "id": "f4c1abcb",
   "metadata": {},
   "source": [
    " As Features possuem cerca de 2.5% dos dados como NaN , o que é um percentual baixo"
   ]
  },
  {
   "cell_type": "raw",
   "id": "b45ba14b",
   "metadata": {},
   "source": [
    "Apenas as features PassengerID e Transported não possuem nenhum NaN "
   ]
  },
  {
   "cell_type": "markdown",
   "id": "8d6890f0",
   "metadata": {},
   "source": [
    "### Analisar se a base é desbalanceada"
   ]
  },
  {
   "cell_type": "code",
   "execution_count": 8,
   "id": "adb1225f",
   "metadata": {},
   "outputs": [
    {
     "data": {
      "text/plain": [
       "True     0.503624\n",
       "False    0.496376\n",
       "Name: Transported, dtype: float64"
      ]
     },
     "execution_count": 8,
     "metadata": {},
     "output_type": "execute_result"
    }
   ],
   "source": [
    "df_base_titanic['Transported'].value_counts(normalize = True)"
   ]
  },
  {
   "cell_type": "raw",
   "id": "34dae3fc",
   "metadata": {},
   "source": [
    "O percentual de transportados e não transportados é quase igual. Logo não temos um problema de desbalanceamento aqui"
   ]
  },
  {
   "cell_type": "code",
   "execution_count": 9,
   "id": "069a1b48",
   "metadata": {},
   "outputs": [],
   "source": [
    "df_base_titanic['Transported'] = np.where(df_base_titanic['Transported'] == True, 1, 0)"
   ]
  },
  {
   "cell_type": "markdown",
   "id": "c92ed64c",
   "metadata": {},
   "source": [
    "### Analisar as features e tratar o dados faltante"
   ]
  },
  {
   "cell_type": "code",
   "execution_count": 10,
   "id": "f805cd0e",
   "metadata": {},
   "outputs": [
    {
     "data": {
      "text/html": [
       "<div>\n",
       "<style scoped>\n",
       "    .dataframe tbody tr th:only-of-type {\n",
       "        vertical-align: middle;\n",
       "    }\n",
       "\n",
       "    .dataframe tbody tr th {\n",
       "        vertical-align: top;\n",
       "    }\n",
       "\n",
       "    .dataframe thead th {\n",
       "        text-align: right;\n",
       "    }\n",
       "</style>\n",
       "<table border=\"1\" class=\"dataframe\">\n",
       "  <thead>\n",
       "    <tr style=\"text-align: right;\">\n",
       "      <th></th>\n",
       "      <th>PassengerId</th>\n",
       "      <th>HomePlanet</th>\n",
       "      <th>CryoSleep</th>\n",
       "      <th>Cabin</th>\n",
       "      <th>Destination</th>\n",
       "      <th>Age</th>\n",
       "      <th>VIP</th>\n",
       "      <th>RoomService</th>\n",
       "      <th>FoodCourt</th>\n",
       "      <th>ShoppingMall</th>\n",
       "      <th>Spa</th>\n",
       "      <th>VRDeck</th>\n",
       "      <th>Name</th>\n",
       "      <th>Transported</th>\n",
       "    </tr>\n",
       "  </thead>\n",
       "  <tbody>\n",
       "    <tr>\n",
       "      <th>0</th>\n",
       "      <td>0001_01</td>\n",
       "      <td>Europa</td>\n",
       "      <td>False</td>\n",
       "      <td>B/0/P</td>\n",
       "      <td>TRAPPIST-1e</td>\n",
       "      <td>39.0</td>\n",
       "      <td>False</td>\n",
       "      <td>0.0</td>\n",
       "      <td>0.0</td>\n",
       "      <td>0.0</td>\n",
       "      <td>0.0</td>\n",
       "      <td>0.0</td>\n",
       "      <td>Maham Ofracculy</td>\n",
       "      <td>0</td>\n",
       "    </tr>\n",
       "    <tr>\n",
       "      <th>1</th>\n",
       "      <td>0002_01</td>\n",
       "      <td>Earth</td>\n",
       "      <td>False</td>\n",
       "      <td>F/0/S</td>\n",
       "      <td>TRAPPIST-1e</td>\n",
       "      <td>24.0</td>\n",
       "      <td>False</td>\n",
       "      <td>109.0</td>\n",
       "      <td>9.0</td>\n",
       "      <td>25.0</td>\n",
       "      <td>549.0</td>\n",
       "      <td>44.0</td>\n",
       "      <td>Juanna Vines</td>\n",
       "      <td>1</td>\n",
       "    </tr>\n",
       "    <tr>\n",
       "      <th>2</th>\n",
       "      <td>0003_01</td>\n",
       "      <td>Europa</td>\n",
       "      <td>False</td>\n",
       "      <td>A/0/S</td>\n",
       "      <td>TRAPPIST-1e</td>\n",
       "      <td>58.0</td>\n",
       "      <td>True</td>\n",
       "      <td>43.0</td>\n",
       "      <td>3576.0</td>\n",
       "      <td>0.0</td>\n",
       "      <td>6715.0</td>\n",
       "      <td>49.0</td>\n",
       "      <td>Altark Susent</td>\n",
       "      <td>0</td>\n",
       "    </tr>\n",
       "    <tr>\n",
       "      <th>3</th>\n",
       "      <td>0003_02</td>\n",
       "      <td>Europa</td>\n",
       "      <td>False</td>\n",
       "      <td>A/0/S</td>\n",
       "      <td>TRAPPIST-1e</td>\n",
       "      <td>33.0</td>\n",
       "      <td>False</td>\n",
       "      <td>0.0</td>\n",
       "      <td>1283.0</td>\n",
       "      <td>371.0</td>\n",
       "      <td>3329.0</td>\n",
       "      <td>193.0</td>\n",
       "      <td>Solam Susent</td>\n",
       "      <td>0</td>\n",
       "    </tr>\n",
       "    <tr>\n",
       "      <th>4</th>\n",
       "      <td>0004_01</td>\n",
       "      <td>Earth</td>\n",
       "      <td>False</td>\n",
       "      <td>F/1/S</td>\n",
       "      <td>TRAPPIST-1e</td>\n",
       "      <td>16.0</td>\n",
       "      <td>False</td>\n",
       "      <td>303.0</td>\n",
       "      <td>70.0</td>\n",
       "      <td>151.0</td>\n",
       "      <td>565.0</td>\n",
       "      <td>2.0</td>\n",
       "      <td>Willy Santantines</td>\n",
       "      <td>1</td>\n",
       "    </tr>\n",
       "    <tr>\n",
       "      <th>...</th>\n",
       "      <td>...</td>\n",
       "      <td>...</td>\n",
       "      <td>...</td>\n",
       "      <td>...</td>\n",
       "      <td>...</td>\n",
       "      <td>...</td>\n",
       "      <td>...</td>\n",
       "      <td>...</td>\n",
       "      <td>...</td>\n",
       "      <td>...</td>\n",
       "      <td>...</td>\n",
       "      <td>...</td>\n",
       "      <td>...</td>\n",
       "      <td>...</td>\n",
       "    </tr>\n",
       "    <tr>\n",
       "      <th>8688</th>\n",
       "      <td>9276_01</td>\n",
       "      <td>Europa</td>\n",
       "      <td>False</td>\n",
       "      <td>A/98/P</td>\n",
       "      <td>55 Cancri e</td>\n",
       "      <td>41.0</td>\n",
       "      <td>True</td>\n",
       "      <td>0.0</td>\n",
       "      <td>6819.0</td>\n",
       "      <td>0.0</td>\n",
       "      <td>1643.0</td>\n",
       "      <td>74.0</td>\n",
       "      <td>Gravior Noxnuther</td>\n",
       "      <td>0</td>\n",
       "    </tr>\n",
       "    <tr>\n",
       "      <th>8689</th>\n",
       "      <td>9278_01</td>\n",
       "      <td>Earth</td>\n",
       "      <td>True</td>\n",
       "      <td>G/1499/S</td>\n",
       "      <td>PSO J318.5-22</td>\n",
       "      <td>18.0</td>\n",
       "      <td>False</td>\n",
       "      <td>0.0</td>\n",
       "      <td>0.0</td>\n",
       "      <td>0.0</td>\n",
       "      <td>0.0</td>\n",
       "      <td>0.0</td>\n",
       "      <td>Kurta Mondalley</td>\n",
       "      <td>0</td>\n",
       "    </tr>\n",
       "    <tr>\n",
       "      <th>8690</th>\n",
       "      <td>9279_01</td>\n",
       "      <td>Earth</td>\n",
       "      <td>False</td>\n",
       "      <td>G/1500/S</td>\n",
       "      <td>TRAPPIST-1e</td>\n",
       "      <td>26.0</td>\n",
       "      <td>False</td>\n",
       "      <td>0.0</td>\n",
       "      <td>0.0</td>\n",
       "      <td>1872.0</td>\n",
       "      <td>1.0</td>\n",
       "      <td>0.0</td>\n",
       "      <td>Fayey Connon</td>\n",
       "      <td>1</td>\n",
       "    </tr>\n",
       "    <tr>\n",
       "      <th>8691</th>\n",
       "      <td>9280_01</td>\n",
       "      <td>Europa</td>\n",
       "      <td>False</td>\n",
       "      <td>E/608/S</td>\n",
       "      <td>55 Cancri e</td>\n",
       "      <td>32.0</td>\n",
       "      <td>False</td>\n",
       "      <td>0.0</td>\n",
       "      <td>1049.0</td>\n",
       "      <td>0.0</td>\n",
       "      <td>353.0</td>\n",
       "      <td>3235.0</td>\n",
       "      <td>Celeon Hontichre</td>\n",
       "      <td>0</td>\n",
       "    </tr>\n",
       "    <tr>\n",
       "      <th>8692</th>\n",
       "      <td>9280_02</td>\n",
       "      <td>Europa</td>\n",
       "      <td>False</td>\n",
       "      <td>E/608/S</td>\n",
       "      <td>TRAPPIST-1e</td>\n",
       "      <td>44.0</td>\n",
       "      <td>False</td>\n",
       "      <td>126.0</td>\n",
       "      <td>4688.0</td>\n",
       "      <td>0.0</td>\n",
       "      <td>0.0</td>\n",
       "      <td>12.0</td>\n",
       "      <td>Propsh Hontichre</td>\n",
       "      <td>1</td>\n",
       "    </tr>\n",
       "  </tbody>\n",
       "</table>\n",
       "<p>8693 rows × 14 columns</p>\n",
       "</div>"
      ],
      "text/plain": [
       "     PassengerId HomePlanet CryoSleep     Cabin    Destination   Age    VIP  \\\n",
       "0        0001_01     Europa     False     B/0/P    TRAPPIST-1e  39.0  False   \n",
       "1        0002_01      Earth     False     F/0/S    TRAPPIST-1e  24.0  False   \n",
       "2        0003_01     Europa     False     A/0/S    TRAPPIST-1e  58.0   True   \n",
       "3        0003_02     Europa     False     A/0/S    TRAPPIST-1e  33.0  False   \n",
       "4        0004_01      Earth     False     F/1/S    TRAPPIST-1e  16.0  False   \n",
       "...          ...        ...       ...       ...            ...   ...    ...   \n",
       "8688     9276_01     Europa     False    A/98/P    55 Cancri e  41.0   True   \n",
       "8689     9278_01      Earth      True  G/1499/S  PSO J318.5-22  18.0  False   \n",
       "8690     9279_01      Earth     False  G/1500/S    TRAPPIST-1e  26.0  False   \n",
       "8691     9280_01     Europa     False   E/608/S    55 Cancri e  32.0  False   \n",
       "8692     9280_02     Europa     False   E/608/S    TRAPPIST-1e  44.0  False   \n",
       "\n",
       "      RoomService  FoodCourt  ShoppingMall     Spa  VRDeck               Name  \\\n",
       "0             0.0        0.0           0.0     0.0     0.0    Maham Ofracculy   \n",
       "1           109.0        9.0          25.0   549.0    44.0       Juanna Vines   \n",
       "2            43.0     3576.0           0.0  6715.0    49.0      Altark Susent   \n",
       "3             0.0     1283.0         371.0  3329.0   193.0       Solam Susent   \n",
       "4           303.0       70.0         151.0   565.0     2.0  Willy Santantines   \n",
       "...           ...        ...           ...     ...     ...                ...   \n",
       "8688          0.0     6819.0           0.0  1643.0    74.0  Gravior Noxnuther   \n",
       "8689          0.0        0.0           0.0     0.0     0.0    Kurta Mondalley   \n",
       "8690          0.0        0.0        1872.0     1.0     0.0       Fayey Connon   \n",
       "8691          0.0     1049.0           0.0   353.0  3235.0   Celeon Hontichre   \n",
       "8692        126.0     4688.0           0.0     0.0    12.0   Propsh Hontichre   \n",
       "\n",
       "      Transported  \n",
       "0               0  \n",
       "1               1  \n",
       "2               0  \n",
       "3               0  \n",
       "4               1  \n",
       "...           ...  \n",
       "8688            0  \n",
       "8689            0  \n",
       "8690            1  \n",
       "8691            0  \n",
       "8692            1  \n",
       "\n",
       "[8693 rows x 14 columns]"
      ]
     },
     "execution_count": 10,
     "metadata": {},
     "output_type": "execute_result"
    }
   ],
   "source": [
    "df_base_titanic"
   ]
  },
  {
   "cell_type": "markdown",
   "id": "a800c4c4",
   "metadata": {},
   "source": [
    "#### Features categóricas e Booleanas"
   ]
  },
  {
   "cell_type": "markdown",
   "id": "eefa0444",
   "metadata": {},
   "source": [
    "#1 HomePlanet"
   ]
  },
  {
   "cell_type": "code",
   "execution_count": 11,
   "id": "686d2503",
   "metadata": {},
   "outputs": [
    {
     "data": {
      "text/plain": [
       "<AxesSubplot:xlabel='HomePlanet', ylabel='count'>"
      ]
     },
     "execution_count": 11,
     "metadata": {},
     "output_type": "execute_result"
    },
    {
     "data": {
      "image/png": "[encoded data removed]",
      "text/plain": [
       "<Figure size 1440x432 with 2 Axes>"
      ]
     },
     "metadata": {
      "needs_background": "light"
     },
     "output_type": "display_data"
    }
   ],
   "source": [
    "fig, ax = plt.subplots(1, 2, figsize=(20,6))\n",
    "fig.suptitle('Distribuição origem', size = 20, weight='bold')\n",
    "\n",
    "sizes = (df_base_titanic['HomePlanet'].value_counts(sort=False))\n",
    "\n",
    "labels = df_base_titanic['HomePlanet'].dropna().unique()\n",
    "colors = ['#099FFF', '#CC00FF', '#13CA91']\n",
    "explode = (0.05,0.05,0.05) \n",
    "\n",
    "ax[0].pie(sizes, colors=colors, explode=explode, startangle=90, labels=labels,\n",
    "       autopct='%1.2f%%', pctdistance=0.6,textprops={'fontsize':12})\n",
    "sns.countplot(x='HomePlanet', data=df_base_titanic, hue='Transported', ax=ax[1])"
   ]
  },
  {
   "cell_type": "raw",
   "id": "ceecec7f",
   "metadata": {},
   "source": [
    "1 - A maioria dos passageiros vieram da Terra\n",
    "2 - Os passageiros vindos da Europa tem a maior chance serem transportados\n",
    "3 - Os passageiros vindos da Terra tem a menor chance de serem transportados, quando comparado aos demais\n",
    "4 - Para os passageiros vindos de Marte, a chance de ser teletransportado é quase igual a de não ser"
   ]
  },
  {
   "cell_type": "raw",
   "id": "7091492e",
   "metadata": {},
   "source": [
    "Como verificamos acima que são poucos os valores faltante em cada feature (aprox 2.5%) , em variaveis categóricas vamos usar preencher esses dados com o dado mais frequente. \n",
    "Para isso vamos usar a função SimpleImputer do Sklearn, com o parametro strategy='most_frequent'"
   ]
  },
  {
   "cell_type": "code",
   "execution_count": 12,
   "id": "8c491e0a",
   "metadata": {},
   "outputs": [],
   "source": [
    "most_imputer = SimpleImputer(missing_values = np.nan,\n",
    "                            strategy = 'most_frequent')"
   ]
  },
  {
   "cell_type": "code",
   "execution_count": 13,
   "id": "93e4bfac",
   "metadata": {},
   "outputs": [],
   "source": [
    "df_base_titanic.HomePlanet = most_imputer.fit_transform(df_base_titanic[['HomePlanet']])"
   ]
  },
  {
   "cell_type": "markdown",
   "id": "ca1221c2",
   "metadata": {},
   "source": [
    "#2 CryoSleep"
   ]
  },
  {
   "cell_type": "code",
   "execution_count": 14,
   "id": "8e9bb3f1",
   "metadata": {},
   "outputs": [
    {
     "data": {
      "text/plain": [
       "<AxesSubplot:xlabel='CryoSleep', ylabel='count'>"
      ]
     },
     "execution_count": 14,
     "metadata": {},
     "output_type": "execute_result"
    },
    {
     "data": {
      "image/png": "[encoded data removed]",
      "text/plain": [
       "<Figure size 1440x432 with 2 Axes>"
      ]
     },
     "metadata": {
      "needs_background": "light"
     },
     "output_type": "display_data"
    }
   ],
   "source": [
    "fig, ax = plt.subplots(1, 2, figsize=(20,6))\n",
    "fig.suptitle('Distribuição CryoSleep', size = 20, weight='bold')\n",
    "\n",
    "sizes = (df_base_titanic['CryoSleep'].value_counts())\n",
    "\n",
    "labels = df_base_titanic['CryoSleep'].dropna().unique()\n",
    "colors = ['#099FFF', '#CC00FF']\n",
    "\n",
    "ax[0].pie(sizes, colors=colors,  startangle=90, labels=labels,\n",
    "       autopct='%1.2f%%', pctdistance=0.6,textprops={'fontsize':12})\n",
    "sns.countplot(x='CryoSleep', data=df_base_titanic, hue='Transported', ax=ax[1])"
   ]
  },
  {
   "cell_type": "raw",
   "id": "574fea47",
   "metadata": {},
   "source": [
    "1 - apenas 35,8% dos passageiros quiseram realizar a viagem em CryoSleep\n",
    "2 - Passageiros que não optaram por CryoSleep tiveram uma propabilidade muito menor de serem teletransportados"
   ]
  },
  {
   "cell_type": "code",
   "execution_count": 15,
   "id": "5b0cd0cd",
   "metadata": {},
   "outputs": [],
   "source": [
    "df_base_titanic.CryoSleep = most_imputer.fit_transform(df_base_titanic[['CryoSleep']])"
   ]
  },
  {
   "cell_type": "code",
   "execution_count": 16,
   "id": "76e7515e",
   "metadata": {},
   "outputs": [],
   "source": [
    "df_base_titanic['CryoSleep'] = np.where(df_base_titanic['VIP'] == True , 1 , 0)"
   ]
  },
  {
   "cell_type": "markdown",
   "id": "62f539be",
   "metadata": {},
   "source": [
    "#3 Cabin"
   ]
  },
  {
   "cell_type": "raw",
   "id": "f26155da",
   "metadata": {},
   "source": [
    "Precisamos tratar a Feature Cabin. Na documentação está escrito que o número da cabine é composto por deck/num/side, onde side pode ser P para bombordo e S para estibordo. Vamos criar uma duas novas features com essas informações"
   ]
  },
  {
   "cell_type": "code",
   "execution_count": 17,
   "id": "493f9daa",
   "metadata": {},
   "outputs": [],
   "source": [
    "# Removendo todas as linhas onde não temos a informção da cabine, já que não podemos assumir nenhum valor para elas.\n",
    "df_base_titanic = df_base_titanic.dropna(subset = ['Cabin'])"
   ]
  },
  {
   "cell_type": "code",
   "execution_count": 18,
   "id": "4404e6de",
   "metadata": {},
   "outputs": [],
   "source": [
    "df_base_titanic['Cabin'] = df_base_titanic['Cabin'].astype(str)"
   ]
  },
  {
   "cell_type": "code",
   "execution_count": 19,
   "id": "bb47d68f",
   "metadata": {},
   "outputs": [
    {
     "name": "stdout",
     "output_type": "stream",
     "text": [
      "<class 'pandas.core.frame.DataFrame'>\n",
      "Int64Index: 8494 entries, 0 to 8692\n",
      "Data columns (total 14 columns):\n",
      " #   Column        Non-Null Count  Dtype  \n",
      "---  ------        --------------  -----  \n",
      " 0   PassengerId   8494 non-null   object \n",
      " 1   HomePlanet    8494 non-null   object \n",
      " 2   CryoSleep     8494 non-null   int32  \n",
      " 3   Cabin         8494 non-null   object \n",
      " 4   Destination   8316 non-null   object \n",
      " 5   Age           8319 non-null   float64\n",
      " 6   VIP           8297 non-null   object \n",
      " 7   RoomService   8317 non-null   float64\n",
      " 8   FoodCourt     8316 non-null   float64\n",
      " 9   ShoppingMall  8288 non-null   float64\n",
      " 10  Spa           8313 non-null   float64\n",
      " 11  VRDeck        8310 non-null   float64\n",
      " 12  Name          8296 non-null   object \n",
      " 13  Transported   8494 non-null   int32  \n",
      "dtypes: float64(6), int32(2), object(6)\n",
      "memory usage: 929.0+ KB\n"
     ]
    }
   ],
   "source": [
    "df_base_titanic.info()"
   ]
  },
  {
   "cell_type": "code",
   "execution_count": 20,
   "id": "26223dee",
   "metadata": {},
   "outputs": [],
   "source": [
    "df_cabines = df_base_titanic[\"Cabin\"].str.extract(\"(.*?)/(.*?)/(.)\")\n",
    "df_cabines.columns = [\"Deck\", \"Num\", \"Side\"]"
   ]
  },
  {
   "cell_type": "code",
   "execution_count": 21,
   "id": "b9fc12a1",
   "metadata": {},
   "outputs": [
    {
     "data": {
      "text/html": [
       "<div>\n",
       "<style scoped>\n",
       "    .dataframe tbody tr th:only-of-type {\n",
       "        vertical-align: middle;\n",
       "    }\n",
       "\n",
       "    .dataframe tbody tr th {\n",
       "        vertical-align: top;\n",
       "    }\n",
       "\n",
       "    .dataframe thead th {\n",
       "        text-align: right;\n",
       "    }\n",
       "</style>\n",
       "<table border=\"1\" class=\"dataframe\">\n",
       "  <thead>\n",
       "    <tr style=\"text-align: right;\">\n",
       "      <th></th>\n",
       "      <th>Deck</th>\n",
       "      <th>Num</th>\n",
       "      <th>Side</th>\n",
       "      <th>PassengerId</th>\n",
       "    </tr>\n",
       "  </thead>\n",
       "  <tbody>\n",
       "    <tr>\n",
       "      <th>0</th>\n",
       "      <td>B</td>\n",
       "      <td>0</td>\n",
       "      <td>P</td>\n",
       "      <td>0001_01</td>\n",
       "    </tr>\n",
       "    <tr>\n",
       "      <th>1</th>\n",
       "      <td>F</td>\n",
       "      <td>0</td>\n",
       "      <td>S</td>\n",
       "      <td>0002_01</td>\n",
       "    </tr>\n",
       "    <tr>\n",
       "      <th>2</th>\n",
       "      <td>A</td>\n",
       "      <td>0</td>\n",
       "      <td>S</td>\n",
       "      <td>0003_01</td>\n",
       "    </tr>\n",
       "    <tr>\n",
       "      <th>3</th>\n",
       "      <td>A</td>\n",
       "      <td>0</td>\n",
       "      <td>S</td>\n",
       "      <td>0003_02</td>\n",
       "    </tr>\n",
       "  </tbody>\n",
       "</table>\n",
       "</div>"
      ],
      "text/plain": [
       "  Deck Num Side PassengerId\n",
       "0    B   0    P     0001_01\n",
       "1    F   0    S     0002_01\n",
       "2    A   0    S     0003_01\n",
       "3    A   0    S     0003_02"
      ]
     },
     "execution_count": 21,
     "metadata": {},
     "output_type": "execute_result"
    }
   ],
   "source": [
    "df_cabines[\"PassengerId\"] = df_base_titanic[\"PassengerId\"]\n",
    "df_cabines.dropna(inplace=True)\n",
    "df_cabines.head(4)"
   ]
  },
  {
   "cell_type": "code",
   "execution_count": 22,
   "id": "1c6500e0",
   "metadata": {},
   "outputs": [
    {
     "data": {
      "text/html": [
       "<div>\n",
       "<style scoped>\n",
       "    .dataframe tbody tr th:only-of-type {\n",
       "        vertical-align: middle;\n",
       "    }\n",
       "\n",
       "    .dataframe tbody tr th {\n",
       "        vertical-align: top;\n",
       "    }\n",
       "\n",
       "    .dataframe thead th {\n",
       "        text-align: right;\n",
       "    }\n",
       "</style>\n",
       "<table border=\"1\" class=\"dataframe\">\n",
       "  <thead>\n",
       "    <tr style=\"text-align: right;\">\n",
       "      <th></th>\n",
       "      <th>PassengerId</th>\n",
       "      <th>HomePlanet</th>\n",
       "      <th>CryoSleep</th>\n",
       "      <th>Destination</th>\n",
       "      <th>Age</th>\n",
       "      <th>VIP</th>\n",
       "      <th>RoomService</th>\n",
       "      <th>FoodCourt</th>\n",
       "      <th>ShoppingMall</th>\n",
       "      <th>Spa</th>\n",
       "      <th>VRDeck</th>\n",
       "      <th>Name</th>\n",
       "      <th>Transported</th>\n",
       "      <th>Deck</th>\n",
       "      <th>Num</th>\n",
       "      <th>Side</th>\n",
       "    </tr>\n",
       "  </thead>\n",
       "  <tbody>\n",
       "    <tr>\n",
       "      <th>0</th>\n",
       "      <td>0001_01</td>\n",
       "      <td>Europa</td>\n",
       "      <td>0</td>\n",
       "      <td>TRAPPIST-1e</td>\n",
       "      <td>39.0</td>\n",
       "      <td>False</td>\n",
       "      <td>0.0</td>\n",
       "      <td>0.0</td>\n",
       "      <td>0.0</td>\n",
       "      <td>0.0</td>\n",
       "      <td>0.0</td>\n",
       "      <td>Maham Ofracculy</td>\n",
       "      <td>0</td>\n",
       "      <td>B</td>\n",
       "      <td>0</td>\n",
       "      <td>P</td>\n",
       "    </tr>\n",
       "    <tr>\n",
       "      <th>1</th>\n",
       "      <td>0002_01</td>\n",
       "      <td>Earth</td>\n",
       "      <td>0</td>\n",
       "      <td>TRAPPIST-1e</td>\n",
       "      <td>24.0</td>\n",
       "      <td>False</td>\n",
       "      <td>109.0</td>\n",
       "      <td>9.0</td>\n",
       "      <td>25.0</td>\n",
       "      <td>549.0</td>\n",
       "      <td>44.0</td>\n",
       "      <td>Juanna Vines</td>\n",
       "      <td>1</td>\n",
       "      <td>F</td>\n",
       "      <td>0</td>\n",
       "      <td>S</td>\n",
       "    </tr>\n",
       "    <tr>\n",
       "      <th>2</th>\n",
       "      <td>0003_01</td>\n",
       "      <td>Europa</td>\n",
       "      <td>1</td>\n",
       "      <td>TRAPPIST-1e</td>\n",
       "      <td>58.0</td>\n",
       "      <td>True</td>\n",
       "      <td>43.0</td>\n",
       "      <td>3576.0</td>\n",
       "      <td>0.0</td>\n",
       "      <td>6715.0</td>\n",
       "      <td>49.0</td>\n",
       "      <td>Altark Susent</td>\n",
       "      <td>0</td>\n",
       "      <td>A</td>\n",
       "      <td>0</td>\n",
       "      <td>S</td>\n",
       "    </tr>\n",
       "    <tr>\n",
       "      <th>3</th>\n",
       "      <td>0003_02</td>\n",
       "      <td>Europa</td>\n",
       "      <td>0</td>\n",
       "      <td>TRAPPIST-1e</td>\n",
       "      <td>33.0</td>\n",
       "      <td>False</td>\n",
       "      <td>0.0</td>\n",
       "      <td>1283.0</td>\n",
       "      <td>371.0</td>\n",
       "      <td>3329.0</td>\n",
       "      <td>193.0</td>\n",
       "      <td>Solam Susent</td>\n",
       "      <td>0</td>\n",
       "      <td>A</td>\n",
       "      <td>0</td>\n",
       "      <td>S</td>\n",
       "    </tr>\n",
       "    <tr>\n",
       "      <th>4</th>\n",
       "      <td>0004_01</td>\n",
       "      <td>Earth</td>\n",
       "      <td>0</td>\n",
       "      <td>TRAPPIST-1e</td>\n",
       "      <td>16.0</td>\n",
       "      <td>False</td>\n",
       "      <td>303.0</td>\n",
       "      <td>70.0</td>\n",
       "      <td>151.0</td>\n",
       "      <td>565.0</td>\n",
       "      <td>2.0</td>\n",
       "      <td>Willy Santantines</td>\n",
       "      <td>1</td>\n",
       "      <td>F</td>\n",
       "      <td>1</td>\n",
       "      <td>S</td>\n",
       "    </tr>\n",
       "    <tr>\n",
       "      <th>...</th>\n",
       "      <td>...</td>\n",
       "      <td>...</td>\n",
       "      <td>...</td>\n",
       "      <td>...</td>\n",
       "      <td>...</td>\n",
       "      <td>...</td>\n",
       "      <td>...</td>\n",
       "      <td>...</td>\n",
       "      <td>...</td>\n",
       "      <td>...</td>\n",
       "      <td>...</td>\n",
       "      <td>...</td>\n",
       "      <td>...</td>\n",
       "      <td>...</td>\n",
       "      <td>...</td>\n",
       "      <td>...</td>\n",
       "    </tr>\n",
       "    <tr>\n",
       "      <th>8489</th>\n",
       "      <td>9276_01</td>\n",
       "      <td>Europa</td>\n",
       "      <td>1</td>\n",
       "      <td>55 Cancri e</td>\n",
       "      <td>41.0</td>\n",
       "      <td>True</td>\n",
       "      <td>0.0</td>\n",
       "      <td>6819.0</td>\n",
       "      <td>0.0</td>\n",
       "      <td>1643.0</td>\n",
       "      <td>74.0</td>\n",
       "      <td>Gravior Noxnuther</td>\n",
       "      <td>0</td>\n",
       "      <td>A</td>\n",
       "      <td>98</td>\n",
       "      <td>P</td>\n",
       "    </tr>\n",
       "    <tr>\n",
       "      <th>8490</th>\n",
       "      <td>9278_01</td>\n",
       "      <td>Earth</td>\n",
       "      <td>0</td>\n",
       "      <td>PSO J318.5-22</td>\n",
       "      <td>18.0</td>\n",
       "      <td>False</td>\n",
       "      <td>0.0</td>\n",
       "      <td>0.0</td>\n",
       "      <td>0.0</td>\n",
       "      <td>0.0</td>\n",
       "      <td>0.0</td>\n",
       "      <td>Kurta Mondalley</td>\n",
       "      <td>0</td>\n",
       "      <td>G</td>\n",
       "      <td>1499</td>\n",
       "      <td>S</td>\n",
       "    </tr>\n",
       "    <tr>\n",
       "      <th>8491</th>\n",
       "      <td>9279_01</td>\n",
       "      <td>Earth</td>\n",
       "      <td>0</td>\n",
       "      <td>TRAPPIST-1e</td>\n",
       "      <td>26.0</td>\n",
       "      <td>False</td>\n",
       "      <td>0.0</td>\n",
       "      <td>0.0</td>\n",
       "      <td>1872.0</td>\n",
       "      <td>1.0</td>\n",
       "      <td>0.0</td>\n",
       "      <td>Fayey Connon</td>\n",
       "      <td>1</td>\n",
       "      <td>G</td>\n",
       "      <td>1500</td>\n",
       "      <td>S</td>\n",
       "    </tr>\n",
       "    <tr>\n",
       "      <th>8492</th>\n",
       "      <td>9280_01</td>\n",
       "      <td>Europa</td>\n",
       "      <td>0</td>\n",
       "      <td>55 Cancri e</td>\n",
       "      <td>32.0</td>\n",
       "      <td>False</td>\n",
       "      <td>0.0</td>\n",
       "      <td>1049.0</td>\n",
       "      <td>0.0</td>\n",
       "      <td>353.0</td>\n",
       "      <td>3235.0</td>\n",
       "      <td>Celeon Hontichre</td>\n",
       "      <td>0</td>\n",
       "      <td>E</td>\n",
       "      <td>608</td>\n",
       "      <td>S</td>\n",
       "    </tr>\n",
       "    <tr>\n",
       "      <th>8493</th>\n",
       "      <td>9280_02</td>\n",
       "      <td>Europa</td>\n",
       "      <td>0</td>\n",
       "      <td>TRAPPIST-1e</td>\n",
       "      <td>44.0</td>\n",
       "      <td>False</td>\n",
       "      <td>126.0</td>\n",
       "      <td>4688.0</td>\n",
       "      <td>0.0</td>\n",
       "      <td>0.0</td>\n",
       "      <td>12.0</td>\n",
       "      <td>Propsh Hontichre</td>\n",
       "      <td>1</td>\n",
       "      <td>E</td>\n",
       "      <td>608</td>\n",
       "      <td>S</td>\n",
       "    </tr>\n",
       "  </tbody>\n",
       "</table>\n",
       "<p>8494 rows × 16 columns</p>\n",
       "</div>"
      ],
      "text/plain": [
       "     PassengerId HomePlanet  CryoSleep    Destination   Age    VIP  \\\n",
       "0        0001_01     Europa          0    TRAPPIST-1e  39.0  False   \n",
       "1        0002_01      Earth          0    TRAPPIST-1e  24.0  False   \n",
       "2        0003_01     Europa          1    TRAPPIST-1e  58.0   True   \n",
       "3        0003_02     Europa          0    TRAPPIST-1e  33.0  False   \n",
       "4        0004_01      Earth          0    TRAPPIST-1e  16.0  False   \n",
       "...          ...        ...        ...            ...   ...    ...   \n",
       "8489     9276_01     Europa          1    55 Cancri e  41.0   True   \n",
       "8490     9278_01      Earth          0  PSO J318.5-22  18.0  False   \n",
       "8491     9279_01      Earth          0    TRAPPIST-1e  26.0  False   \n",
       "8492     9280_01     Europa          0    55 Cancri e  32.0  False   \n",
       "8493     9280_02     Europa          0    TRAPPIST-1e  44.0  False   \n",
       "\n",
       "      RoomService  FoodCourt  ShoppingMall     Spa  VRDeck               Name  \\\n",
       "0             0.0        0.0           0.0     0.0     0.0    Maham Ofracculy   \n",
       "1           109.0        9.0          25.0   549.0    44.0       Juanna Vines   \n",
       "2            43.0     3576.0           0.0  6715.0    49.0      Altark Susent   \n",
       "3             0.0     1283.0         371.0  3329.0   193.0       Solam Susent   \n",
       "4           303.0       70.0         151.0   565.0     2.0  Willy Santantines   \n",
       "...           ...        ...           ...     ...     ...                ...   \n",
       "8489          0.0     6819.0           0.0  1643.0    74.0  Gravior Noxnuther   \n",
       "8490          0.0        0.0           0.0     0.0     0.0    Kurta Mondalley   \n",
       "8491          0.0        0.0        1872.0     1.0     0.0       Fayey Connon   \n",
       "8492          0.0     1049.0           0.0   353.0  3235.0   Celeon Hontichre   \n",
       "8493        126.0     4688.0           0.0     0.0    12.0   Propsh Hontichre   \n",
       "\n",
       "      Transported Deck   Num Side  \n",
       "0               0    B     0    P  \n",
       "1               1    F     0    S  \n",
       "2               0    A     0    S  \n",
       "3               0    A     0    S  \n",
       "4               1    F     1    S  \n",
       "...           ...  ...   ...  ...  \n",
       "8489            0    A    98    P  \n",
       "8490            0    G  1499    S  \n",
       "8491            1    G  1500    S  \n",
       "8492            0    E   608    S  \n",
       "8493            1    E   608    S  \n",
       "\n",
       "[8494 rows x 16 columns]"
      ]
     },
     "execution_count": 22,
     "metadata": {},
     "output_type": "execute_result"
    }
   ],
   "source": [
    "df_base_titanic = df_base_titanic.merge(df_cabines , how='left')\n",
    "df_base_titanic.drop(['Cabin'], axis=1 , inplace = True)\n",
    "df_base_titanic"
   ]
  },
  {
   "cell_type": "code",
   "execution_count": 23,
   "id": "e1576aa3",
   "metadata": {},
   "outputs": [
    {
     "data": {
      "text/plain": [
       "<AxesSubplot:xlabel='Deck', ylabel='count'>"
      ]
     },
     "execution_count": 23,
     "metadata": {},
     "output_type": "execute_result"
    },
    {
     "data": {
      "image/png": "[encoded data removed]",
      "text/plain": [
       "<Figure size 1440x432 with 2 Axes>"
      ]
     },
     "metadata": {
      "needs_background": "light"
     },
     "output_type": "display_data"
    }
   ],
   "source": [
    "fig, ax = plt.subplots(1, 2, figsize=(20,6))\n",
    "fig.suptitle('Distribuição Deck', size = 20, weight='bold')\n",
    "\n",
    "sizes = (df_base_titanic['Deck'].value_counts())\n",
    "\n",
    "labels = df_base_titanic['Deck'].dropna().unique()\n",
    " \n",
    "\n",
    "ax[0].pie(sizes,  startangle=90, labels=labels,\n",
    "       autopct='%1.2f%%', pctdistance=0.6,textprops={'fontsize':12})\n",
    "sns.countplot(x='Deck', data=df_base_titanic, hue='Transported', ax=ax[1])"
   ]
  },
  {
   "cell_type": "raw",
   "id": "158cb316",
   "metadata": {},
   "source": [
    "1- A maior parte dos passageiros estão nos Decks F e G\n",
    "2 - Passageiros tem maior probabilidade de serem transportados se estiverem nos decks B ou C"
   ]
  },
  {
   "cell_type": "code",
   "execution_count": 24,
   "id": "c7648712",
   "metadata": {},
   "outputs": [
    {
     "data": {
      "text/plain": [
       "<AxesSubplot:xlabel='Side', ylabel='count'>"
      ]
     },
     "execution_count": 24,
     "metadata": {},
     "output_type": "execute_result"
    },
    {
     "data": {
      "image/png": "[encoded data removed]",
      "text/plain": [
       "<Figure size 1440x432 with 2 Axes>"
      ]
     },
     "metadata": {
      "needs_background": "light"
     },
     "output_type": "display_data"
    }
   ],
   "source": [
    "fig, ax = plt.subplots(1, 2, figsize=(20,6))\n",
    "fig.suptitle('Distribuição Side', size = 20, weight='bold')\n",
    "\n",
    "sizes = df_base_titanic['Side'].value_counts()\n",
    "\n",
    "labels = df_base_titanic['Side'].dropna().unique()\n",
    " \n",
    "\n",
    "ax[0].pie(sizes,  startangle=90, labels=labels,\n",
    "       autopct='%1.2f%%', pctdistance=0.6,textprops={'fontsize':12})\n",
    "sns.countplot(x='Side', data=df_base_titanic, hue='Transported', ax=ax[1])"
   ]
  },
  {
   "cell_type": "raw",
   "id": "167991a5",
   "metadata": {},
   "source": [
    "1 - Há quase metade dos passageiros de cada lado da nave\n",
    "2 - Passageiros a estibordo tem maior probabilidade de serem transportados"
   ]
  },
  {
   "cell_type": "markdown",
   "id": "37468cdf",
   "metadata": {},
   "source": [
    "#4 Destination"
   ]
  },
  {
   "cell_type": "code",
   "execution_count": 25,
   "id": "9bccb153",
   "metadata": {},
   "outputs": [
    {
     "data": {
      "text/plain": [
       "TRAPPIST-1e      5788\n",
       "55 Cancri e      1750\n",
       "PSO J318.5-22     778\n",
       "Name: Destination, dtype: int64"
      ]
     },
     "execution_count": 25,
     "metadata": {},
     "output_type": "execute_result"
    }
   ],
   "source": [
    "df_base_titanic.Destination.value_counts()"
   ]
  },
  {
   "cell_type": "code",
   "execution_count": 26,
   "id": "65d11d00",
   "metadata": {},
   "outputs": [
    {
     "data": {
      "text/plain": [
       "<AxesSubplot:xlabel='Destination', ylabel='count'>"
      ]
     },
     "execution_count": 26,
     "metadata": {},
     "output_type": "execute_result"
    },
    {
     "data": {
      "image/png": "[encoded data removed]",
      "text/plain": [
       "<Figure size 1440x432 with 2 Axes>"
      ]
     },
     "metadata": {
      "needs_background": "light"
     },
     "output_type": "display_data"
    }
   ],
   "source": [
    "fig, ax = plt.subplots(1, 2, figsize=(20,6))\n",
    "fig.suptitle('Distribuição Destination', size = 20, weight='bold')\n",
    "\n",
    "sizes = df_base_titanic['Destination'].value_counts()\n",
    "\n",
    "labels = df_base_titanic['Destination'].dropna().unique()\n",
    "colors = ['#099FFF', '#CC00FF' , '#13CA91' ]\n",
    "explode = (0.05,0.05 ,0.05) \n",
    "\n",
    "ax[0].pie(sizes, colors=colors, explode=explode, startangle=90, labels=labels,\n",
    "       autopct='%1.2f%%', pctdistance=0.6,textprops={'fontsize':12})\n",
    "sns.countplot(x='Destination', data=df_base_titanic, hue='Transported', ax=ax[1])"
   ]
  },
  {
   "cell_type": "raw",
   "id": "c0229b7d",
   "metadata": {},
   "source": [
    "1 - A grande maioria dos passageiros tem como objetivo ir para Trappist-1e\n",
    "2 - Passageiros com esse objetivo tem uma probabilidade maior de não serem transportados\n",
    "3 - Já os que querem ir para PSO, a chande de ser ou não ser transportado é praticamente igual\n",
    "4 - Os passageiros com destino a 55 Cancri tem maior chance de serem transportados"
   ]
  },
  {
   "cell_type": "code",
   "execution_count": 27,
   "id": "48984e86",
   "metadata": {},
   "outputs": [],
   "source": [
    "df_base_titanic.Destination = most_imputer.fit_transform(df_base_titanic[['Destination']])"
   ]
  },
  {
   "cell_type": "markdown",
   "id": "5cd600b0",
   "metadata": {},
   "source": [
    "#5 VIP"
   ]
  },
  {
   "cell_type": "code",
   "execution_count": 28,
   "id": "cfbd4eba",
   "metadata": {},
   "outputs": [
    {
     "data": {
      "text/plain": [
       "<AxesSubplot:xlabel='VIP', ylabel='count'>"
      ]
     },
     "execution_count": 28,
     "metadata": {},
     "output_type": "execute_result"
    },
    {
     "data": {
      "image/png": "[encoded data removed]",
      "text/plain": [
       "<Figure size 1440x432 with 2 Axes>"
      ]
     },
     "metadata": {
      "needs_background": "light"
     },
     "output_type": "display_data"
    }
   ],
   "source": [
    "fig, ax = plt.subplots(1, 2, figsize=(20,6))\n",
    "fig.suptitle('Distribuição VIP', size = 20, weight='bold')\n",
    "\n",
    "sizes = (df_base_titanic['VIP'].value_counts())\n",
    "\n",
    "labels = df_base_titanic['VIP'].dropna().unique()\n",
    "colors = ['#099FFF',  '#13CA91' ]\n",
    "explode = (0.05,0.05) \n",
    "\n",
    "ax[0].pie(sizes, colors=colors, explode=explode, startangle=90, labels=labels,\n",
    "       autopct='%1.2f%%', pctdistance=0.6,textprops={'fontsize':12})\n",
    "sns.countplot(x='VIP', data=df_base_titanic, hue='Transported', ax=ax[1])"
   ]
  },
  {
   "cell_type": "raw",
   "id": "c74b30d4",
   "metadata": {},
   "source": [
    "1 - Grande maioria dos passageiros não estavam na categoria VIP\n",
    "2 - Pouca diferença de probabilidade em ser transportado para os que são e não são VIP"
   ]
  },
  {
   "cell_type": "code",
   "execution_count": 29,
   "id": "8be81606",
   "metadata": {},
   "outputs": [],
   "source": [
    "df_base_titanic.VIP = most_imputer.fit_transform(df_base_titanic[['VIP']])"
   ]
  },
  {
   "cell_type": "code",
   "execution_count": 30,
   "id": "cff063c5",
   "metadata": {},
   "outputs": [],
   "source": [
    "df_base_titanic['VIP'] = np.where(df_base_titanic['VIP'] == True, 1, 0)"
   ]
  },
  {
   "cell_type": "markdown",
   "id": "153b9b31",
   "metadata": {},
   "source": [
    "#6 PassengerId"
   ]
  },
  {
   "cell_type": "code",
   "execution_count": 31,
   "id": "74099300",
   "metadata": {},
   "outputs": [],
   "source": [
    "df_base_titanic['Group'] = df_base_titanic['PassengerId'].apply(lambda x: x.split('_')[0]).astype(int)"
   ]
  },
  {
   "cell_type": "code",
   "execution_count": 32,
   "id": "68ad786c",
   "metadata": {},
   "outputs": [
    {
     "data": {
      "text/html": [
       "<div>\n",
       "<style scoped>\n",
       "    .dataframe tbody tr th:only-of-type {\n",
       "        vertical-align: middle;\n",
       "    }\n",
       "\n",
       "    .dataframe tbody tr th {\n",
       "        vertical-align: top;\n",
       "    }\n",
       "\n",
       "    .dataframe thead th {\n",
       "        text-align: right;\n",
       "    }\n",
       "</style>\n",
       "<table border=\"1\" class=\"dataframe\">\n",
       "  <thead>\n",
       "    <tr style=\"text-align: right;\">\n",
       "      <th></th>\n",
       "      <th>PassengerId</th>\n",
       "      <th>HomePlanet</th>\n",
       "      <th>CryoSleep</th>\n",
       "      <th>Destination</th>\n",
       "      <th>Age</th>\n",
       "      <th>VIP</th>\n",
       "      <th>RoomService</th>\n",
       "      <th>FoodCourt</th>\n",
       "      <th>ShoppingMall</th>\n",
       "      <th>Spa</th>\n",
       "      <th>VRDeck</th>\n",
       "      <th>Name</th>\n",
       "      <th>Transported</th>\n",
       "      <th>Deck</th>\n",
       "      <th>Num</th>\n",
       "      <th>Side</th>\n",
       "      <th>Group</th>\n",
       "    </tr>\n",
       "  </thead>\n",
       "  <tbody>\n",
       "    <tr>\n",
       "      <th>0</th>\n",
       "      <td>0001_01</td>\n",
       "      <td>Europa</td>\n",
       "      <td>0</td>\n",
       "      <td>TRAPPIST-1e</td>\n",
       "      <td>39.0</td>\n",
       "      <td>0</td>\n",
       "      <td>0.0</td>\n",
       "      <td>0.0</td>\n",
       "      <td>0.0</td>\n",
       "      <td>0.0</td>\n",
       "      <td>0.0</td>\n",
       "      <td>Maham Ofracculy</td>\n",
       "      <td>0</td>\n",
       "      <td>B</td>\n",
       "      <td>0</td>\n",
       "      <td>P</td>\n",
       "      <td>1</td>\n",
       "    </tr>\n",
       "    <tr>\n",
       "      <th>1</th>\n",
       "      <td>0002_01</td>\n",
       "      <td>Earth</td>\n",
       "      <td>0</td>\n",
       "      <td>TRAPPIST-1e</td>\n",
       "      <td>24.0</td>\n",
       "      <td>0</td>\n",
       "      <td>109.0</td>\n",
       "      <td>9.0</td>\n",
       "      <td>25.0</td>\n",
       "      <td>549.0</td>\n",
       "      <td>44.0</td>\n",
       "      <td>Juanna Vines</td>\n",
       "      <td>1</td>\n",
       "      <td>F</td>\n",
       "      <td>0</td>\n",
       "      <td>S</td>\n",
       "      <td>2</td>\n",
       "    </tr>\n",
       "    <tr>\n",
       "      <th>2</th>\n",
       "      <td>0003_01</td>\n",
       "      <td>Europa</td>\n",
       "      <td>1</td>\n",
       "      <td>TRAPPIST-1e</td>\n",
       "      <td>58.0</td>\n",
       "      <td>1</td>\n",
       "      <td>43.0</td>\n",
       "      <td>3576.0</td>\n",
       "      <td>0.0</td>\n",
       "      <td>6715.0</td>\n",
       "      <td>49.0</td>\n",
       "      <td>Altark Susent</td>\n",
       "      <td>0</td>\n",
       "      <td>A</td>\n",
       "      <td>0</td>\n",
       "      <td>S</td>\n",
       "      <td>3</td>\n",
       "    </tr>\n",
       "    <tr>\n",
       "      <th>3</th>\n",
       "      <td>0003_02</td>\n",
       "      <td>Europa</td>\n",
       "      <td>0</td>\n",
       "      <td>TRAPPIST-1e</td>\n",
       "      <td>33.0</td>\n",
       "      <td>0</td>\n",
       "      <td>0.0</td>\n",
       "      <td>1283.0</td>\n",
       "      <td>371.0</td>\n",
       "      <td>3329.0</td>\n",
       "      <td>193.0</td>\n",
       "      <td>Solam Susent</td>\n",
       "      <td>0</td>\n",
       "      <td>A</td>\n",
       "      <td>0</td>\n",
       "      <td>S</td>\n",
       "      <td>3</td>\n",
       "    </tr>\n",
       "    <tr>\n",
       "      <th>4</th>\n",
       "      <td>0004_01</td>\n",
       "      <td>Earth</td>\n",
       "      <td>0</td>\n",
       "      <td>TRAPPIST-1e</td>\n",
       "      <td>16.0</td>\n",
       "      <td>0</td>\n",
       "      <td>303.0</td>\n",
       "      <td>70.0</td>\n",
       "      <td>151.0</td>\n",
       "      <td>565.0</td>\n",
       "      <td>2.0</td>\n",
       "      <td>Willy Santantines</td>\n",
       "      <td>1</td>\n",
       "      <td>F</td>\n",
       "      <td>1</td>\n",
       "      <td>S</td>\n",
       "      <td>4</td>\n",
       "    </tr>\n",
       "    <tr>\n",
       "      <th>...</th>\n",
       "      <td>...</td>\n",
       "      <td>...</td>\n",
       "      <td>...</td>\n",
       "      <td>...</td>\n",
       "      <td>...</td>\n",
       "      <td>...</td>\n",
       "      <td>...</td>\n",
       "      <td>...</td>\n",
       "      <td>...</td>\n",
       "      <td>...</td>\n",
       "      <td>...</td>\n",
       "      <td>...</td>\n",
       "      <td>...</td>\n",
       "      <td>...</td>\n",
       "      <td>...</td>\n",
       "      <td>...</td>\n",
       "      <td>...</td>\n",
       "    </tr>\n",
       "    <tr>\n",
       "      <th>8489</th>\n",
       "      <td>9276_01</td>\n",
       "      <td>Europa</td>\n",
       "      <td>1</td>\n",
       "      <td>55 Cancri e</td>\n",
       "      <td>41.0</td>\n",
       "      <td>1</td>\n",
       "      <td>0.0</td>\n",
       "      <td>6819.0</td>\n",
       "      <td>0.0</td>\n",
       "      <td>1643.0</td>\n",
       "      <td>74.0</td>\n",
       "      <td>Gravior Noxnuther</td>\n",
       "      <td>0</td>\n",
       "      <td>A</td>\n",
       "      <td>98</td>\n",
       "      <td>P</td>\n",
       "      <td>9276</td>\n",
       "    </tr>\n",
       "    <tr>\n",
       "      <th>8490</th>\n",
       "      <td>9278_01</td>\n",
       "      <td>Earth</td>\n",
       "      <td>0</td>\n",
       "      <td>PSO J318.5-22</td>\n",
       "      <td>18.0</td>\n",
       "      <td>0</td>\n",
       "      <td>0.0</td>\n",
       "      <td>0.0</td>\n",
       "      <td>0.0</td>\n",
       "      <td>0.0</td>\n",
       "      <td>0.0</td>\n",
       "      <td>Kurta Mondalley</td>\n",
       "      <td>0</td>\n",
       "      <td>G</td>\n",
       "      <td>1499</td>\n",
       "      <td>S</td>\n",
       "      <td>9278</td>\n",
       "    </tr>\n",
       "    <tr>\n",
       "      <th>8491</th>\n",
       "      <td>9279_01</td>\n",
       "      <td>Earth</td>\n",
       "      <td>0</td>\n",
       "      <td>TRAPPIST-1e</td>\n",
       "      <td>26.0</td>\n",
       "      <td>0</td>\n",
       "      <td>0.0</td>\n",
       "      <td>0.0</td>\n",
       "      <td>1872.0</td>\n",
       "      <td>1.0</td>\n",
       "      <td>0.0</td>\n",
       "      <td>Fayey Connon</td>\n",
       "      <td>1</td>\n",
       "      <td>G</td>\n",
       "      <td>1500</td>\n",
       "      <td>S</td>\n",
       "      <td>9279</td>\n",
       "    </tr>\n",
       "    <tr>\n",
       "      <th>8492</th>\n",
       "      <td>9280_01</td>\n",
       "      <td>Europa</td>\n",
       "      <td>0</td>\n",
       "      <td>55 Cancri e</td>\n",
       "      <td>32.0</td>\n",
       "      <td>0</td>\n",
       "      <td>0.0</td>\n",
       "      <td>1049.0</td>\n",
       "      <td>0.0</td>\n",
       "      <td>353.0</td>\n",
       "      <td>3235.0</td>\n",
       "      <td>Celeon Hontichre</td>\n",
       "      <td>0</td>\n",
       "      <td>E</td>\n",
       "      <td>608</td>\n",
       "      <td>S</td>\n",
       "      <td>9280</td>\n",
       "    </tr>\n",
       "    <tr>\n",
       "      <th>8493</th>\n",
       "      <td>9280_02</td>\n",
       "      <td>Europa</td>\n",
       "      <td>0</td>\n",
       "      <td>TRAPPIST-1e</td>\n",
       "      <td>44.0</td>\n",
       "      <td>0</td>\n",
       "      <td>126.0</td>\n",
       "      <td>4688.0</td>\n",
       "      <td>0.0</td>\n",
       "      <td>0.0</td>\n",
       "      <td>12.0</td>\n",
       "      <td>Propsh Hontichre</td>\n",
       "      <td>1</td>\n",
       "      <td>E</td>\n",
       "      <td>608</td>\n",
       "      <td>S</td>\n",
       "      <td>9280</td>\n",
       "    </tr>\n",
       "  </tbody>\n",
       "</table>\n",
       "<p>8494 rows × 17 columns</p>\n",
       "</div>"
      ],
      "text/plain": [
       "     PassengerId HomePlanet  CryoSleep    Destination   Age  VIP  RoomService  \\\n",
       "0        0001_01     Europa          0    TRAPPIST-1e  39.0    0          0.0   \n",
       "1        0002_01      Earth          0    TRAPPIST-1e  24.0    0        109.0   \n",
       "2        0003_01     Europa          1    TRAPPIST-1e  58.0    1         43.0   \n",
       "3        0003_02     Europa          0    TRAPPIST-1e  33.0    0          0.0   \n",
       "4        0004_01      Earth          0    TRAPPIST-1e  16.0    0        303.0   \n",
       "...          ...        ...        ...            ...   ...  ...          ...   \n",
       "8489     9276_01     Europa          1    55 Cancri e  41.0    1          0.0   \n",
       "8490     9278_01      Earth          0  PSO J318.5-22  18.0    0          0.0   \n",
       "8491     9279_01      Earth          0    TRAPPIST-1e  26.0    0          0.0   \n",
       "8492     9280_01     Europa          0    55 Cancri e  32.0    0          0.0   \n",
       "8493     9280_02     Europa          0    TRAPPIST-1e  44.0    0        126.0   \n",
       "\n",
       "      FoodCourt  ShoppingMall     Spa  VRDeck               Name  Transported  \\\n",
       "0           0.0           0.0     0.0     0.0    Maham Ofracculy            0   \n",
       "1           9.0          25.0   549.0    44.0       Juanna Vines            1   \n",
       "2        3576.0           0.0  6715.0    49.0      Altark Susent            0   \n",
       "3        1283.0         371.0  3329.0   193.0       Solam Susent            0   \n",
       "4          70.0         151.0   565.0     2.0  Willy Santantines            1   \n",
       "...         ...           ...     ...     ...                ...          ...   \n",
       "8489     6819.0           0.0  1643.0    74.0  Gravior Noxnuther            0   \n",
       "8490        0.0           0.0     0.0     0.0    Kurta Mondalley            0   \n",
       "8491        0.0        1872.0     1.0     0.0       Fayey Connon            1   \n",
       "8492     1049.0           0.0   353.0  3235.0   Celeon Hontichre            0   \n",
       "8493     4688.0           0.0     0.0    12.0   Propsh Hontichre            1   \n",
       "\n",
       "     Deck   Num Side  Group  \n",
       "0       B     0    P      1  \n",
       "1       F     0    S      2  \n",
       "2       A     0    S      3  \n",
       "3       A     0    S      3  \n",
       "4       F     1    S      4  \n",
       "...   ...   ...  ...    ...  \n",
       "8489    A    98    P   9276  \n",
       "8490    G  1499    S   9278  \n",
       "8491    G  1500    S   9279  \n",
       "8492    E   608    S   9280  \n",
       "8493    E   608    S   9280  \n",
       "\n",
       "[8494 rows x 17 columns]"
      ]
     },
     "execution_count": 32,
     "metadata": {},
     "output_type": "execute_result"
    }
   ],
   "source": [
    "df_base_titanic"
   ]
  },
  {
   "cell_type": "code",
   "execution_count": 33,
   "id": "a127629d",
   "metadata": {},
   "outputs": [
    {
     "data": {
      "text/plain": [
       "PassengerId       0\n",
       "HomePlanet        0\n",
       "CryoSleep         0\n",
       "Destination       0\n",
       "Age             175\n",
       "VIP               0\n",
       "RoomService     177\n",
       "FoodCourt       178\n",
       "ShoppingMall    206\n",
       "Spa             181\n",
       "VRDeck          184\n",
       "Name            198\n",
       "Transported       0\n",
       "Deck              0\n",
       "Num               0\n",
       "Side              0\n",
       "Group             0\n",
       "dtype: int64"
      ]
     },
     "execution_count": 33,
     "metadata": {},
     "output_type": "execute_result"
    }
   ],
   "source": [
    "CRIAR NOVA FEATURE "
   ]
  },
  {
   "cell_type": "markdown",
   "id": "d52f4319",
   "metadata": {},
   "source": [
    "#7 Name"
   ]
  },
  {
   "cell_type": "raw",
   "id": "893919a6",
   "metadata": {},
   "source": [
    "Não há como sabermos os nomes dos passageiros que possuem bilhetes sem nome, então vamos deletar "
   ]
  },
  {
   "cell_type": "code",
   "execution_count": 34,
   "id": "90c30397",
   "metadata": {},
   "outputs": [],
   "source": [
    "df_base_titanic = df_base_titanic.dropna(subset = ['Name'])"
   ]
  },
  {
   "cell_type": "code",
   "execution_count": 35,
   "id": "b3048bef",
   "metadata": {},
   "outputs": [
    {
     "data": {
      "text/plain": [
       "PassengerId       0\n",
       "HomePlanet        0\n",
       "CryoSleep         0\n",
       "Destination       0\n",
       "Age             172\n",
       "VIP               0\n",
       "RoomService     176\n",
       "FoodCourt       173\n",
       "ShoppingMall    202\n",
       "Spa             175\n",
       "VRDeck          180\n",
       "Name              0\n",
       "Transported       0\n",
       "Deck              0\n",
       "Num               0\n",
       "Side              0\n",
       "Group             0\n",
       "dtype: int64"
      ]
     },
     "execution_count": 35,
     "metadata": {},
     "output_type": "execute_result"
    }
   ],
   "source": [
    "df_base_titanic.isna().sum()"
   ]
  },
  {
   "cell_type": "markdown",
   "id": "8a00d20d",
   "metadata": {},
   "source": [
    "### tratando variaveis númericas com fit_transform"
   ]
  },
  {
   "cell_type": "code",
   "execution_count": 45,
   "id": "dc7bdb4f",
   "metadata": {},
   "outputs": [],
   "source": [
    "# Aplicando o SimpleImputer para preencher os NaN nas variaveis numéricas\n",
    "df_base_titanic.Age =  most_imputer.fit_transform(df_base_titanic[['Age']])\n",
    "df_base_titanic.RoomService =  most_imputer.fit_transform(df_base_titanic[['RoomService']])\n",
    "df_base_titanic.FoodCourt =  most_imputer.fit_transform(df_base_titanic[['FoodCourt']])\n",
    "df_base_titanic.ShoppingMall =  most_imputer.fit_transform(df_base_titanic[['ShoppingMall']])\n",
    "df_base_titanic.Spa =  most_imputer.fit_transform(df_base_titanic[['Spa']])\n",
    "df_base_titanic.VRDeck =  most_imputer.fit_transform(df_base_titanic[['VRDeck']])"
   ]
  },
  {
   "cell_type": "code",
   "execution_count": 38,
   "id": "89c432a9",
   "metadata": {},
   "outputs": [
    {
     "data": {
      "text/plain": [
       "<AxesSubplot:>"
      ]
     },
     "execution_count": 38,
     "metadata": {},
     "output_type": "execute_result"
    },
    {
     "data": {
      "image/png": "[encoded data removed]",
      "text/plain": [
       "<Figure size 432x288 with 2 Axes>"
      ]
     },
     "metadata": {
      "needs_background": "light"
     },
     "output_type": "display_data"
    }
   ],
   "source": [
    "corr = df_base_titanic.corr()\n",
    "sns.heatmap(corr, \n",
    "            xticklabels=corr.columns.values,\n",
    "            yticklabels=corr.columns.values)"
   ]
  },
  {
   "cell_type": "raw",
   "id": "2f7f3d43",
   "metadata": {},
   "source": [
    "VIP e CryoSleep possuem correlação muito próximo de 1, podendo gerar problemas de multicolinearidade.\n",
    "Vamos remover uma das variaveis"
   ]
  },
  {
   "cell_type": "code",
   "execution_count": 39,
   "id": "228430a7",
   "metadata": {},
   "outputs": [],
   "source": [
    "df_base_titanic.drop(['VIP'] , axis =1 , inplace = True)"
   ]
  },
  {
   "cell_type": "markdown",
   "id": "e36c4e9a",
   "metadata": {},
   "source": [
    "### Divisão treino e teste"
   ]
  },
  {
   "cell_type": "raw",
   "id": "865fd610",
   "metadata": {},
   "source": [
    "Pre processamento variaveis numericas"
   ]
  },
  {
   "cell_type": "code",
   "execution_count": 46,
   "id": "1e8764b4",
   "metadata": {},
   "outputs": [
    {
     "ename": "NameError",
     "evalue": "name 'X_train' is not defined",
     "output_type": "error",
     "traceback": [
      "\u001b[1;31m---------------------------------------------------------------------------\u001b[0m",
      "\u001b[1;31mNameError\u001b[0m                                 Traceback (most recent call last)",
      "\u001b[1;32m<ipython-input-46-725c8fa57fcf>\u001b[0m in \u001b[0;36m<module>\u001b[1;34m\u001b[0m\n\u001b[0;32m      1\u001b[0m \u001b[0mnumericas\u001b[0m \u001b[1;33m=\u001b[0m \u001b[1;33m[\u001b[0m\u001b[1;34m'Age'\u001b[0m \u001b[1;33m,\u001b[0m \u001b[1;34m'RoomService'\u001b[0m \u001b[1;33m,\u001b[0m \u001b[1;34m'FoodCourt'\u001b[0m \u001b[1;33m,\u001b[0m \u001b[1;34m'ShoppingMall'\u001b[0m \u001b[1;33m,\u001b[0m \u001b[1;34m'Spa'\u001b[0m \u001b[1;33m,\u001b[0m \u001b[1;34m'VRDeck'\u001b[0m \u001b[1;33m]\u001b[0m\u001b[1;33m\u001b[0m\u001b[1;33m\u001b[0m\u001b[0m\n\u001b[1;32m----> 2\u001b[1;33m \u001b[0mX_train\u001b[0m\u001b[1;33m[\u001b[0m\u001b[1;33m[\u001b[0m\u001b[0mnumericas\u001b[0m\u001b[1;33m]\u001b[0m\u001b[1;33m]\u001b[0m \u001b[1;33m=\u001b[0m \u001b[0mStandardScaler\u001b[0m\u001b[1;33m(\u001b[0m\u001b[1;33m)\u001b[0m\u001b[1;33m.\u001b[0m\u001b[0mfit_transform\u001b[0m\u001b[1;33m(\u001b[0m\u001b[0mX_train\u001b[0m\u001b[1;33m[\u001b[0m\u001b[1;33m[\u001b[0m\u001b[0mnumericas\u001b[0m\u001b[1;33m]\u001b[0m\u001b[1;33m]\u001b[0m\u001b[1;33m)\u001b[0m\u001b[1;33m\u001b[0m\u001b[1;33m\u001b[0m\u001b[0m\n\u001b[0m",
      "\u001b[1;31mNameError\u001b[0m: name 'X_train' is not defined"
     ]
    }
   ],
   "source": [
    "#numericas = ['Age' , 'RoomService' , 'FoodCourt' , 'ShoppingMall' , 'Spa' , 'VRDeck' ]\n",
    "#df_base_titanic[[numericas]] = StandardScaler().fit_transform(X_train[[numericas]])"
   ]
  },
  {
   "cell_type": "code",
   "execution_count": null,
   "id": "6416dbff",
   "metadata": {},
   "outputs": [],
   "source": []
  }
 ],
 "metadata": {
  "kernelspec": {
   "display_name": "Python 3",
   "language": "python",
   "name": "python3"
  },
  "language_info": {
   "codemirror_mode": {
    "name": "ipython",
    "version": 3
   },
   "file_extension": ".py",
   "mimetype": "text/x-python",
   "name": "python",
   "nbconvert_exporter": "python",
   "pygments_lexer": "ipython3",
   "version": "3.8.8"
  }
 },
 "nbformat": 4,
 "nbformat_minor": 5
}
